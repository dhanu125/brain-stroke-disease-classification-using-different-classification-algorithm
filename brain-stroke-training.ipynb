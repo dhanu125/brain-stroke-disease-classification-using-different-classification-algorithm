{
 "cells": [
  {
   "cell_type": "code",
   "execution_count": 1,
   "id": "8f65d7d4",
   "metadata": {
    "execution": {
     "iopub.execute_input": "2022-04-20T08:14:10.485823Z",
     "iopub.status.busy": "2022-04-20T08:14:10.485111Z",
     "iopub.status.idle": "2022-04-20T08:14:12.949100Z",
     "shell.execute_reply": "2022-04-20T08:14:12.948129Z"
    },
    "papermill": {
     "duration": 2.488252,
     "end_time": "2022-04-20T08:14:12.952371",
     "exception": false,
     "start_time": "2022-04-20T08:14:10.464119",
     "status": "completed"
    },
    "tags": []
   },
   "outputs": [
    {
     "data": {
      "text/html": [
       "<style type='text/css'>\n",
       ".datatable table.frame { margin-bottom: 0; }\n",
       ".datatable table.frame thead { border-bottom: none; }\n",
       ".datatable table.frame tr.coltypes td {  color: #FFFFFF;  line-height: 6px;  padding: 0 0.5em;}\n",
       ".datatable .bool    { background: #DDDD99; }\n",
       ".datatable .object  { background: #565656; }\n",
       ".datatable .int     { background: #5D9E5D; }\n",
       ".datatable .float   { background: #4040CC; }\n",
       ".datatable .str     { background: #CC4040; }\n",
       ".datatable .time    { background: #40CC40; }\n",
       ".datatable .row_index {  background: var(--jp-border-color3);  border-right: 1px solid var(--jp-border-color0);  color: var(--jp-ui-font-color3);  font-size: 9px;}\n",
       ".datatable .frame tbody td { text-align: left; }\n",
       ".datatable .frame tr.coltypes .row_index {  background: var(--jp-border-color0);}\n",
       ".datatable th:nth-child(2) { padding-left: 12px; }\n",
       ".datatable .hellipsis {  color: var(--jp-cell-editor-border-color);}\n",
       ".datatable .vellipsis {  background: var(--jp-layout-color0);  color: var(--jp-cell-editor-border-color);}\n",
       ".datatable .na {  color: var(--jp-cell-editor-border-color);  font-size: 80%;}\n",
       ".datatable .sp {  opacity: 0.25;}\n",
       ".datatable .footer { font-size: 9px; }\n",
       ".datatable .frame_dimensions {  background: var(--jp-border-color3);  border-top: 1px solid var(--jp-border-color0);  color: var(--jp-ui-font-color3);  display: inline-block;  opacity: 0.6;  padding: 1px 10px 1px 5px;}\n",
       "</style>\n"
      ],
      "text/plain": [
       "<IPython.core.display.HTML object>"
      ]
     },
     "metadata": {},
     "output_type": "display_data"
    }
   ],
   "source": [
    "from sklearn.ensemble import RandomForestClassifier \n",
    "from sklearn.model_selection import train_test_split\n",
    "from sklearn.metrics import confusion_matrix, accuracy_score\n",
    "from sklearn.svm import SVC\n",
    "from sklearn.neighbors import KNeighborsClassifier\n",
    "from sklearn.naive_bayes import GaussianNB\n",
    "import lightgbm as lgb\n",
    "import pandas as pd\n",
    "import pickle"
   ]
  },
  {
   "cell_type": "code",
   "execution_count": 2,
   "id": "cccf46d9",
   "metadata": {
    "execution": {
     "iopub.execute_input": "2022-04-20T08:14:12.990590Z",
     "iopub.status.busy": "2022-04-20T08:14:12.990273Z",
     "iopub.status.idle": "2022-04-20T08:14:13.023407Z",
     "shell.execute_reply": "2022-04-20T08:14:13.022411Z"
    },
    "papermill": {
     "duration": 0.05436,
     "end_time": "2022-04-20T08:14:13.025721",
     "exception": false,
     "start_time": "2022-04-20T08:14:12.971361",
     "status": "completed"
    },
    "tags": []
   },
   "outputs": [],
   "source": [
    "features= '../input/feature1/features (1).csv'\n",
    "\n",
    "data = pd.read_csv(features)"
   ]
  },
  {
   "cell_type": "code",
   "execution_count": 3,
   "id": "f1df0e35",
   "metadata": {
    "execution": {
     "iopub.execute_input": "2022-04-20T08:14:13.063328Z",
     "iopub.status.busy": "2022-04-20T08:14:13.062959Z",
     "iopub.status.idle": "2022-04-20T08:14:13.090406Z",
     "shell.execute_reply": "2022-04-20T08:14:13.089691Z"
    },
    "papermill": {
     "duration": 0.04867,
     "end_time": "2022-04-20T08:14:13.092346",
     "exception": false,
     "start_time": "2022-04-20T08:14:13.043676",
     "status": "completed"
    },
    "tags": []
   },
   "outputs": [
    {
     "data": {
      "text/html": [
       "<div>\n",
       "<style scoped>\n",
       "    .dataframe tbody tr th:only-of-type {\n",
       "        vertical-align: middle;\n",
       "    }\n",
       "\n",
       "    .dataframe tbody tr th {\n",
       "        vertical-align: top;\n",
       "    }\n",
       "\n",
       "    .dataframe thead th {\n",
       "        text-align: right;\n",
       "    }\n",
       "</style>\n",
       "<table border=\"1\" class=\"dataframe\">\n",
       "  <thead>\n",
       "    <tr style=\"text-align: right;\">\n",
       "      <th></th>\n",
       "      <th>contrast</th>\n",
       "      <th>energy</th>\n",
       "      <th>homogeneity</th>\n",
       "      <th>correlation</th>\n",
       "      <th>dissimilarity</th>\n",
       "      <th>ASM</th>\n",
       "      <th>Type</th>\n",
       "    </tr>\n",
       "  </thead>\n",
       "  <tbody>\n",
       "    <tr>\n",
       "      <th>0</th>\n",
       "      <td>0.163787</td>\n",
       "      <td>0.767233</td>\n",
       "      <td>0.970234</td>\n",
       "      <td>0.981170</td>\n",
       "      <td>0.074326</td>\n",
       "      <td>0.588646</td>\n",
       "      <td>1</td>\n",
       "    </tr>\n",
       "    <tr>\n",
       "      <th>1</th>\n",
       "      <td>0.257920</td>\n",
       "      <td>0.320817</td>\n",
       "      <td>0.893996</td>\n",
       "      <td>0.975608</td>\n",
       "      <td>0.219623</td>\n",
       "      <td>0.102923</td>\n",
       "      <td>0</td>\n",
       "    </tr>\n",
       "    <tr>\n",
       "      <th>2</th>\n",
       "      <td>0.375214</td>\n",
       "      <td>0.636149</td>\n",
       "      <td>0.934716</td>\n",
       "      <td>0.960730</td>\n",
       "      <td>0.164737</td>\n",
       "      <td>0.404685</td>\n",
       "      <td>1</td>\n",
       "    </tr>\n",
       "    <tr>\n",
       "      <th>3</th>\n",
       "      <td>0.212500</td>\n",
       "      <td>0.632071</td>\n",
       "      <td>0.952296</td>\n",
       "      <td>0.975593</td>\n",
       "      <td>0.113480</td>\n",
       "      <td>0.399513</td>\n",
       "      <td>1</td>\n",
       "    </tr>\n",
       "    <tr>\n",
       "      <th>4</th>\n",
       "      <td>0.375245</td>\n",
       "      <td>0.425533</td>\n",
       "      <td>0.907385</td>\n",
       "      <td>0.962053</td>\n",
       "      <td>0.215043</td>\n",
       "      <td>0.181078</td>\n",
       "      <td>0</td>\n",
       "    </tr>\n",
       "  </tbody>\n",
       "</table>\n",
       "</div>"
      ],
      "text/plain": [
       "   contrast    energy  homogeneity  correlation  dissimilarity       ASM  Type\n",
       "0  0.163787  0.767233     0.970234     0.981170       0.074326  0.588646     1\n",
       "1  0.257920  0.320817     0.893996     0.975608       0.219623  0.102923     0\n",
       "2  0.375214  0.636149     0.934716     0.960730       0.164737  0.404685     1\n",
       "3  0.212500  0.632071     0.952296     0.975593       0.113480  0.399513     1\n",
       "4  0.375245  0.425533     0.907385     0.962053       0.215043  0.181078     0"
      ]
     },
     "execution_count": 3,
     "metadata": {},
     "output_type": "execute_result"
    }
   ],
   "source": [
    "data=data.drop(['Unnamed: 0'],axis=1)\n",
    "data.head()"
   ]
  },
  {
   "cell_type": "code",
   "execution_count": 4,
   "id": "69ac99e0",
   "metadata": {
    "execution": {
     "iopub.execute_input": "2022-04-20T08:14:13.132097Z",
     "iopub.status.busy": "2022-04-20T08:14:13.131283Z",
     "iopub.status.idle": "2022-04-20T08:14:13.139188Z",
     "shell.execute_reply": "2022-04-20T08:14:13.138346Z"
    },
    "papermill": {
     "duration": 0.02964,
     "end_time": "2022-04-20T08:14:13.141556",
     "exception": false,
     "start_time": "2022-04-20T08:14:13.111916",
     "status": "completed"
    },
    "tags": []
   },
   "outputs": [
    {
     "name": "stdout",
     "output_type": "stream",
     "text": [
      "contrast         0\n",
      "energy           0\n",
      "homogeneity      0\n",
      "correlation      0\n",
      "dissimilarity    0\n",
      "ASM              0\n",
      "Type             0\n",
      "dtype: int64\n"
     ]
    }
   ],
   "source": [
    "print(data.isna().sum())"
   ]
  },
  {
   "cell_type": "code",
   "execution_count": 5,
   "id": "73f04208",
   "metadata": {
    "execution": {
     "iopub.execute_input": "2022-04-20T08:14:13.180514Z",
     "iopub.status.busy": "2022-04-20T08:14:13.179955Z",
     "iopub.status.idle": "2022-04-20T08:14:13.187685Z",
     "shell.execute_reply": "2022-04-20T08:14:13.186910Z"
    },
    "papermill": {
     "duration": 0.029542,
     "end_time": "2022-04-20T08:14:13.189769",
     "exception": false,
     "start_time": "2022-04-20T08:14:13.160227",
     "status": "completed"
    },
    "tags": []
   },
   "outputs": [],
   "source": [
    "y1 = data['Type']\n",
    "y1=y1.astype('int') \n",
    "x1 = data.drop(['Type'], axis = 1)"
   ]
  },
  {
   "cell_type": "code",
   "execution_count": 6,
   "id": "dac6933b",
   "metadata": {
    "execution": {
     "iopub.execute_input": "2022-04-20T08:14:13.228524Z",
     "iopub.status.busy": "2022-04-20T08:14:13.228233Z",
     "iopub.status.idle": "2022-04-20T08:14:13.235683Z",
     "shell.execute_reply": "2022-04-20T08:14:13.234614Z"
    },
    "papermill": {
     "duration": 0.029695,
     "end_time": "2022-04-20T08:14:13.238100",
     "exception": false,
     "start_time": "2022-04-20T08:14:13.208405",
     "status": "completed"
    },
    "tags": []
   },
   "outputs": [],
   "source": [
    "x_train, x_test, y_train, y_test = train_test_split(x1,y1,test_size = 0.2,random_state=42)"
   ]
  },
  {
   "cell_type": "code",
   "execution_count": 7,
   "id": "08b9b15e",
   "metadata": {
    "execution": {
     "iopub.execute_input": "2022-04-20T08:14:13.278694Z",
     "iopub.status.busy": "2022-04-20T08:14:13.277789Z",
     "iopub.status.idle": "2022-04-20T08:14:13.667452Z",
     "shell.execute_reply": "2022-04-20T08:14:13.666720Z"
    },
    "papermill": {
     "duration": 0.412977,
     "end_time": "2022-04-20T08:14:13.670008",
     "exception": false,
     "start_time": "2022-04-20T08:14:13.257031",
     "status": "completed"
    },
    "tags": []
   },
   "outputs": [],
   "source": [
    "model1 = RandomForestClassifier(random_state=4)\n",
    "model1.fit(x_train, y_train)\n",
    "\n",
    "y_pred1 = model1.predict(x_test)\n"
   ]
  },
  {
   "cell_type": "code",
   "execution_count": 8,
   "id": "cffe60b9",
   "metadata": {
    "execution": {
     "iopub.execute_input": "2022-04-20T08:14:13.710682Z",
     "iopub.status.busy": "2022-04-20T08:14:13.709825Z",
     "iopub.status.idle": "2022-04-20T08:14:13.719684Z",
     "shell.execute_reply": "2022-04-20T08:14:13.718533Z"
    },
    "papermill": {
     "duration": 0.032339,
     "end_time": "2022-04-20T08:14:13.721894",
     "exception": false,
     "start_time": "2022-04-20T08:14:13.689555",
     "status": "completed"
    },
    "tags": []
   },
   "outputs": [
    {
     "name": "stdout",
     "output_type": "stream",
     "text": [
      "[[188  24]\n",
      " [ 15 173]]\n",
      "90.25\n"
     ]
    }
   ],
   "source": [
    "cm = confusion_matrix(y_test, y_pred1)\n",
    "print(cm)\n",
    "print(accuracy_score(y_test, y_pred1)*100)"
   ]
  },
  {
   "cell_type": "code",
   "execution_count": 9,
   "id": "bbc827aa",
   "metadata": {
    "execution": {
     "iopub.execute_input": "2022-04-20T08:14:13.764114Z",
     "iopub.status.busy": "2022-04-20T08:14:13.763562Z",
     "iopub.status.idle": "2022-04-20T08:14:13.830429Z",
     "shell.execute_reply": "2022-04-20T08:14:13.829359Z"
    },
    "papermill": {
     "duration": 0.090054,
     "end_time": "2022-04-20T08:14:13.833058",
     "exception": false,
     "start_time": "2022-04-20T08:14:13.743004",
     "status": "completed"
    },
    "tags": []
   },
   "outputs": [],
   "source": [
    "model2=SVC(kernel='linear',C=1)\n",
    "model2.fit(x_train, y_train)\n",
    "y_pred2 = model2.predict(x_test)\n"
   ]
  },
  {
   "cell_type": "code",
   "execution_count": 10,
   "id": "0fab173c",
   "metadata": {
    "execution": {
     "iopub.execute_input": "2022-04-20T08:14:13.877405Z",
     "iopub.status.busy": "2022-04-20T08:14:13.876696Z",
     "iopub.status.idle": "2022-04-20T08:14:13.884585Z",
     "shell.execute_reply": "2022-04-20T08:14:13.883479Z"
    },
    "papermill": {
     "duration": 0.034881,
     "end_time": "2022-04-20T08:14:13.887104",
     "exception": false,
     "start_time": "2022-04-20T08:14:13.852223",
     "status": "completed"
    },
    "tags": []
   },
   "outputs": [
    {
     "name": "stdout",
     "output_type": "stream",
     "text": [
      "[[161  51]\n",
      " [ 23 165]]\n",
      "81.5\n"
     ]
    }
   ],
   "source": [
    "cm = confusion_matrix(y_test, y_pred2)\n",
    "print(cm)\n",
    "print(accuracy_score(y_test, y_pred2)*100)"
   ]
  },
  {
   "cell_type": "code",
   "execution_count": 11,
   "id": "81d6ff68",
   "metadata": {
    "execution": {
     "iopub.execute_input": "2022-04-20T08:14:13.928119Z",
     "iopub.status.busy": "2022-04-20T08:14:13.927757Z",
     "iopub.status.idle": "2022-04-20T08:14:13.953849Z",
     "shell.execute_reply": "2022-04-20T08:14:13.952912Z"
    },
    "papermill": {
     "duration": 0.049564,
     "end_time": "2022-04-20T08:14:13.956625",
     "exception": false,
     "start_time": "2022-04-20T08:14:13.907061",
     "status": "completed"
    },
    "tags": []
   },
   "outputs": [],
   "source": [
    "model3=KNeighborsClassifier(n_neighbors=7)\n",
    "model3.fit(x_train, y_train)\n",
    "y_pred3 = model3.predict(x_test)\n"
   ]
  },
  {
   "cell_type": "code",
   "execution_count": 12,
   "id": "769b6775",
   "metadata": {
    "execution": {
     "iopub.execute_input": "2022-04-20T08:14:13.997325Z",
     "iopub.status.busy": "2022-04-20T08:14:13.997014Z",
     "iopub.status.idle": "2022-04-20T08:14:14.005328Z",
     "shell.execute_reply": "2022-04-20T08:14:14.004326Z"
    },
    "papermill": {
     "duration": 0.031158,
     "end_time": "2022-04-20T08:14:14.007408",
     "exception": false,
     "start_time": "2022-04-20T08:14:13.976250",
     "status": "completed"
    },
    "tags": []
   },
   "outputs": [
    {
     "name": "stdout",
     "output_type": "stream",
     "text": [
      "[[184  28]\n",
      " [ 28 160]]\n",
      "86.0\n"
     ]
    }
   ],
   "source": [
    "cm = confusion_matrix(y_test, y_pred3)\n",
    "print(cm)\n",
    "print(accuracy_score(y_test, y_pred3)*100)"
   ]
  },
  {
   "cell_type": "code",
   "execution_count": 13,
   "id": "caede811",
   "metadata": {
    "execution": {
     "iopub.execute_input": "2022-04-20T08:14:14.052002Z",
     "iopub.status.busy": "2022-04-20T08:14:14.051658Z",
     "iopub.status.idle": "2022-04-20T08:14:14.061322Z",
     "shell.execute_reply": "2022-04-20T08:14:14.060441Z"
    },
    "papermill": {
     "duration": 0.035912,
     "end_time": "2022-04-20T08:14:14.063717",
     "exception": false,
     "start_time": "2022-04-20T08:14:14.027805",
     "status": "completed"
    },
    "tags": []
   },
   "outputs": [],
   "source": [
    "model4=GaussianNB()\n",
    "model4.fit(x_train, y_train)\n",
    "y_pred4 = model4.predict(x_test)\n"
   ]
  },
  {
   "cell_type": "code",
   "execution_count": 14,
   "id": "10a58e3b",
   "metadata": {
    "execution": {
     "iopub.execute_input": "2022-04-20T08:14:14.105319Z",
     "iopub.status.busy": "2022-04-20T08:14:14.105036Z",
     "iopub.status.idle": "2022-04-20T08:14:14.112616Z",
     "shell.execute_reply": "2022-04-20T08:14:14.111522Z"
    },
    "papermill": {
     "duration": 0.031169,
     "end_time": "2022-04-20T08:14:14.114835",
     "exception": false,
     "start_time": "2022-04-20T08:14:14.083666",
     "status": "completed"
    },
    "tags": []
   },
   "outputs": [
    {
     "name": "stdout",
     "output_type": "stream",
     "text": [
      "[[151  61]\n",
      " [ 24 164]]\n",
      "78.75\n"
     ]
    }
   ],
   "source": [
    "cm = confusion_matrix(y_test, y_pred4)\n",
    "print(cm)\n",
    "print(accuracy_score(y_test, y_pred4)*100)"
   ]
  },
  {
   "cell_type": "code",
   "execution_count": 15,
   "id": "1619e78a",
   "metadata": {
    "execution": {
     "iopub.execute_input": "2022-04-20T08:14:14.156897Z",
     "iopub.status.busy": "2022-04-20T08:14:14.156618Z",
     "iopub.status.idle": "2022-04-20T08:14:14.179344Z",
     "shell.execute_reply": "2022-04-20T08:14:14.178418Z"
    },
    "papermill": {
     "duration": 0.046504,
     "end_time": "2022-04-20T08:14:14.181789",
     "exception": false,
     "start_time": "2022-04-20T08:14:14.135285",
     "status": "completed"
    },
    "tags": []
   },
   "outputs": [],
   "source": [
    "pickle.dump(model1, open(\"model1\", 'wb'))"
   ]
  },
  {
   "cell_type": "code",
   "execution_count": null,
   "id": "fa99fbf3",
   "metadata": {
    "papermill": {
     "duration": 0.01963,
     "end_time": "2022-04-20T08:14:14.221295",
     "exception": false,
     "start_time": "2022-04-20T08:14:14.201665",
     "status": "completed"
    },
    "tags": []
   },
   "outputs": [],
   "source": []
  }
 ],
 "metadata": {
  "kernelspec": {
   "display_name": "Python 3",
   "language": "python",
   "name": "python3"
  },
  "language_info": {
   "codemirror_mode": {
    "name": "ipython",
    "version": 3
   },
   "file_extension": ".py",
   "mimetype": "text/x-python",
   "name": "python",
   "nbconvert_exporter": "python",
   "pygments_lexer": "ipython3",
   "version": "3.7.12"
  },
  "papermill": {
   "default_parameters": {},
   "duration": 15.374574,
   "end_time": "2022-04-20T08:14:15.062640",
   "environment_variables": {},
   "exception": null,
   "input_path": "__notebook__.ipynb",
   "output_path": "__notebook__.ipynb",
   "parameters": {},
   "start_time": "2022-04-20T08:13:59.688066",
   "version": "2.3.4"
  }
 },
 "nbformat": 4,
 "nbformat_minor": 5
}
